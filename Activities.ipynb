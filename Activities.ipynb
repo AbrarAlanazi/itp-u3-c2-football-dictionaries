{
  "nbformat": 4,
  "nbformat_minor": 0,
  "metadata": {
    "colab": {
      "provenance": []
    },
    "kernelspec": {
      "name": "python3",
      "display_name": "Python 3"
    },
    "language_info": {
      "name": "python"
    }
  },
  "cells": [
    {
      "cell_type": "code",
      "execution_count": 1,
      "metadata": {
        "id": "myXFE-4Vs724"
      },
      "outputs": [],
      "source": [
        "SQUADS_DATA = [\n",
        "  [\n",
        "    \"1\",                                     # Number\n",
        "    \"GK\",                                    # Position\n",
        "    \"Juan Botasso\",                          # Name\n",
        "    \"(1908-10-23)23 October 1908 (aged 21)\", # Date of Birth\n",
        "    \"\",                                      # Caps\n",
        "    \"Quilmes\",                               # Club\n",
        "    \"Argentina\",                             # Country (Players Country)\n",
        "    \"Argentina\",                             # Club Country\n",
        "    \"1930\"                                   # Year\n",
        "  ],\n",
        "  [\n",
        "    \"9\",\n",
        "    \"FW\",\n",
        "    \"Roberto Cherro\",\n",
        "    \"(1907-02-23)23 February 1907 (aged 23)\",\n",
        "    \"\",\n",
        "    \"Boca Juniors\",\n",
        "    \"Argentina\",\n",
        "    \"Argentina\",\n",
        "    \"1930\"\n",
        "  ]\n",
        "  # More Players...\n",
        "]"
      ]
    },
    {
      "cell_type": "code",
      "source": [
        "# Assignment 1 - Lists to Dicts\n",
        "def list_to_dict(player_data):\n",
        "    return {\n",
        "        'number': player_data[0],\n",
        "        'position': player_data[1],\n",
        "        'name': player_data[2],\n",
        "        'date_of_birth': player_data[3],\n",
        "        'caps': player_data[4],\n",
        "        'club': player_data[5],\n",
        "        'country': player_data[6],\n",
        "        'club_country': player_data[7],\n",
        "        'year': player_data[8]\n",
        "    }\n",
        "\n",
        "players_dicts = [list_to_dict(player) for player in SQUADS_DATA]\n"
      ],
      "metadata": {
        "id": "fk6szSwGtP0t"
      },
      "execution_count": 2,
      "outputs": []
    },
    {
      "cell_type": "code",
      "source": [
        "# Assignment 2\n",
        "def group_by_position(players_data):\n",
        "    position_groups = {}\n",
        "    for player in players_data:\n",
        "        position = player['position']\n",
        "        if position not in position_groups:\n",
        "            position_groups[position] = []\n",
        "        position_groups[position].append(player)\n",
        "    return position_groups\n",
        "\n",
        "players_by_position = group_by_position(players_dicts)\n"
      ],
      "metadata": {
        "id": "WykNForJtWsS"
      },
      "execution_count": 3,
      "outputs": []
    },
    {
      "cell_type": "code",
      "source": [
        "# Assignment 3\n",
        "def group_by_country_and_position(players_data):\n",
        "    country_position_groups = {}\n",
        "    for player in players_data:\n",
        "        country = player['country']\n",
        "        position = player['position']\n",
        "        if country not in country_position_groups:\n",
        "            country_position_groups[country] = {}\n",
        "        if position not in country_position_groups[country]:\n",
        "            country_position_groups[country][position] = []\n",
        "        country_position_groups[country][position].append(player)\n",
        "    return country_position_groups\n",
        "\n",
        "players_by_country_and_position = group_by_country_and_position(players_dicts)\n"
      ],
      "metadata": {
        "id": "hZAFbixytXMz"
      },
      "execution_count": 4,
      "outputs": []
    },
    {
      "cell_type": "code",
      "source": [
        "# Print the results\n",
        "print(players_dicts)\n",
        "print(players_by_position)\n",
        "print(players_by_country_and_position)"
      ],
      "metadata": {
        "colab": {
          "base_uri": "https://localhost:8080/"
        },
        "id": "TAyoM8Rkte8n",
        "outputId": "f67867fc-01ab-4438-f957-2eb0b36f44c0"
      },
      "execution_count": 5,
      "outputs": [
        {
          "output_type": "stream",
          "name": "stdout",
          "text": [
            "[{'number': '1', 'position': 'GK', 'name': 'Juan Botasso', 'date_of_birth': '(1908-10-23)23 October 1908 (aged 21)', 'caps': '', 'club': 'Quilmes', 'country': 'Argentina', 'club_country': 'Argentina', 'year': '1930'}, {'number': '9', 'position': 'FW', 'name': 'Roberto Cherro', 'date_of_birth': '(1907-02-23)23 February 1907 (aged 23)', 'caps': '', 'club': 'Boca Juniors', 'country': 'Argentina', 'club_country': 'Argentina', 'year': '1930'}]\n",
            "{'GK': [{'number': '1', 'position': 'GK', 'name': 'Juan Botasso', 'date_of_birth': '(1908-10-23)23 October 1908 (aged 21)', 'caps': '', 'club': 'Quilmes', 'country': 'Argentina', 'club_country': 'Argentina', 'year': '1930'}], 'FW': [{'number': '9', 'position': 'FW', 'name': 'Roberto Cherro', 'date_of_birth': '(1907-02-23)23 February 1907 (aged 23)', 'caps': '', 'club': 'Boca Juniors', 'country': 'Argentina', 'club_country': 'Argentina', 'year': '1930'}]}\n",
            "{'Argentina': {'GK': [{'number': '1', 'position': 'GK', 'name': 'Juan Botasso', 'date_of_birth': '(1908-10-23)23 October 1908 (aged 21)', 'caps': '', 'club': 'Quilmes', 'country': 'Argentina', 'club_country': 'Argentina', 'year': '1930'}], 'FW': [{'number': '9', 'position': 'FW', 'name': 'Roberto Cherro', 'date_of_birth': '(1907-02-23)23 February 1907 (aged 23)', 'caps': '', 'club': 'Boca Juniors', 'country': 'Argentina', 'club_country': 'Argentina', 'year': '1930'}]}}\n"
          ]
        }
      ]
    }
  ]
}